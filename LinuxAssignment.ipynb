{
  "nbformat": 4,
  "nbformat_minor": 0,
  "metadata": {
    "colab": {
      "provenance": []
    },
    "kernelspec": {
      "name": "python3",
      "display_name": "Python 3"
    },
    "language_info": {
      "name": "python"
    }
  },
  "cells": [
    {
      "cell_type": "code",
      "execution_count": null,
      "metadata": {
        "id": "xYc087f9__Wm"
      },
      "outputs": [],
      "source": [
        "#1. What is linux?"
      ]
    },
    {
      "cell_type": "markdown",
      "source": [
        "Linux is a Unix like Open Source Operating System(OS). It was developed by Linus Torvalds in 1991 & first version of Linux kernel was released on September 17.\n",
        "The kernel is the core central program in Linux OS that manages communication between hardware and software. Kernel handles low-level tasks like processes, memory and device management. Everything in Linux OS is built upon kernal that includes utilities, system libraries & device drivers.\n",
        "Linux is very versatile and is widely used in cloud servers, web hosting and supercomputers. It also served as the foundation of Android OS running on smartphones. Linux is highly customizable. It offers a lot of flexibility & control to its users. It has wide variety of customizable versions called Linux Distributions (e.g. Ubuntu, Arch, Fedora etc.), each offering different default softwares & tools."
      ],
      "metadata": {
        "id": "p8gi6_vhGMZQ"
      }
    },
    {
      "cell_type": "code",
      "source": [
        "#2. What is the difference between Hard Link & Soft Link?"
      ],
      "metadata": {
        "id": "Z3NxwE_IUOdP"
      },
      "execution_count": null,
      "outputs": []
    },
    {
      "cell_type": "markdown",
      "source": [
        "Hard Links:\n",
        "  1. A hard link is a direct reference to a file's index node(inode).\n",
        "  2. All hard links of the same file shares the same inode number & the same data blocks on the disk.\n",
        "  3. If you modify contents of one hard link, the changes will be reflected on all the other hard links.\n",
        "  4. Deleting a hard link doesn't delete the file unless all the hard links are deleted.\n",
        "  5. Hard links cannot span across different file systems & cannot be used for directories.\n",
        "  Example - ln main_file hard_link_file\n",
        "\n",
        "Soft Links:\n",
        "  1. A soft link is a special type of file that points to another file or directory by it's path.\n",
        "  2. Soft links have their own unique inode number & data blocks, which store the path to it's target.\n",
        "  3. If the original file is moved or deleted, it's softlink will become broken.\n",
        "  4. Soft links can span across different file systems.\n",
        "  5. Soft links can be created for both files and directories.\n",
        "  Example - ln -s main_file soft_link_name\n"
      ],
      "metadata": {
        "id": "3uPTQauDUIsE"
      }
    },
    {
      "cell_type": "code",
      "source": [
        "#3. What is a Kernel in Linux?"
      ],
      "metadata": {
        "id": "2ZpVv82yWZfw"
      },
      "execution_count": null,
      "outputs": []
    },
    {
      "cell_type": "markdown",
      "source": [
        "Linux kernel is an open source, central program in Linux Operating System(OS). It acts as a core interface between a computer's hardware and it's processes. Kernel facilitates communication between software and hardware to manage resources as efficiently as possible. Kernel handles low-level tasks like processes, memory and device management.\n",
        "\n",
        "Linux Kernel has four major jobs:\n",
        "  1. Memory management: Keep track of how much memory is used to store what, and where\n",
        "  2. Process management: Determine which processes can use the central processing unit (CPU), when, and for how long\n",
        "  3. Device drivers: Act as mediator/interpreter between the hardware and processes\n",
        "  4. System calls and security: Receive requests for service from the processes"
      ],
      "metadata": {
        "id": "TbU60Ce5Z8d6"
      }
    },
    {
      "cell_type": "code",
      "source": [
        "#4. How do you create a user account?"
      ],
      "metadata": {
        "id": "QqSJTaqWpeYC"
      },
      "execution_count": null,
      "outputs": []
    },
    {
      "cell_type": "markdown",
      "source": [
        "To create a user account in linux we use a command known as \"useradd\".\n",
        "Steps to create a user account:\n",
        "  1. Open a terminal to access your CLI(command-line interface).\n",
        "  2. run command - \"sudo useradd -m username\" - Use your own username in place of \"username\" & note that useradd command requires root privileges to execute. So always use \"sudo\" or switch to root user. Using \"-m\" is optional as it creates a home directory for new user.\n",
        "  3. run command - \"sudo passwd username\" - You will be prompted to enter & confirm the password for new user. A newly created user account is initially locked until a password is set.\n",
        "  4. run command - \"id username\" - Verify user creation by executing this command. This will display information about the newly created user, including their UID, GID, and group memberships.\n"
      ],
      "metadata": {
        "id": "NWtHMcNlpihE"
      }
    },
    {
      "cell_type": "code",
      "source": [
        "#5. What is the ‘grep’ command used for in Linux?"
      ],
      "metadata": {
        "id": "xaqnM0DazY5s"
      },
      "execution_count": null,
      "outputs": []
    },
    {
      "cell_type": "markdown",
      "source": [
        "The \"grep\" command in Linux is a command-line utility used for searching plain-text data sets for lines that match a regular expression or a fixed string. Its primary purpose is to filter and display lines from files or standard input that contain a specified pattern.\n",
        "This command can be used in conjunction with pipes (|) to filter the output of other commands, displaying only the relevant lines.\n",
        "The \"grep\" command provides different options for various functionalites to user.\n",
        "  1. -r: \"grep\" can search for patterns within files across multiple directories and subdirectories.\n",
        "  2. -c: This option allows users to count the number of lines that contain the matching pattern.\n",
        "  3. -i: This option allows for searches that are not sensitive to letter case.\n",
        "  4. -w:  This option ensures that only exact word matches are returned, preventing matches where the pattern is part of a larger word.\n",
        "\n",
        "Example: grep -r \"error\" /var/log"
      ],
      "metadata": {
        "id": "ZhtOWPHD0mIu"
      }
    },
    {
      "cell_type": "code",
      "source": [
        "#6. Step1: Create user p1\n",
        "\n",
        "    #Step2: He should be part of 3 groups g1,g2,g3.\n",
        "\n",
        "    #Step3: whenever he creates a file automatically in the group section of file grp g1 should come."
      ],
      "metadata": {
        "id": "o2Jgzeni123X"
      },
      "execution_count": null,
      "outputs": []
    },
    {
      "cell_type": "markdown",
      "source": [
        "https://ibb.co/bR2hPCbC\n",
        "\n",
        "The following link contains scrrenshot of the terminal where all the commands are successfully executed in order to perform the required steps.\n",
        "\n"
      ],
      "metadata": {
        "id": "XQivk7ky3snq"
      }
    },
    {
      "cell_type": "code",
      "source": [
        "#7. Step1: Create directory /tmp/bg as root user and create files inside it.\n",
        "\n",
        "    #Step2: “abhi” should be the owner of the directory. He should be able to create files and delete files inside\n",
        "    #the directory and also he should be able to add content to all files inside the directory.\n"
      ],
      "metadata": {
        "id": "-2F3NNba_nYR"
      },
      "execution_count": null,
      "outputs": []
    },
    {
      "cell_type": "markdown",
      "source": [
        "https://ibb.co/5HRK1nh\n",
        "The following link contains scrrenshot of the terminal where all the commands are successfully executed in order to perform the required steps."
      ],
      "metadata": {
        "id": "x75Z9c5PHAZk"
      }
    },
    {
      "cell_type": "code",
      "source": [
        "#8. You suspect that a particular process is consuming excessive CPU resources on your Linux server. How would you identify and terminate this process"
      ],
      "metadata": {
        "id": "6BEu5_vNRS5d"
      },
      "execution_count": null,
      "outputs": []
    },
    {
      "cell_type": "markdown",
      "source": [
        "I will use the top or htop command to check which process is consuming high CPU or memory. Then I will verify whether the process is necessary for the system. If it is not required, I will terminate it using its PID with kill PID for graceful termination. If the process does not stop, I will forcefully terminate it using kill -9 PID."
      ],
      "metadata": {
        "id": "HRwUisYtSCzr"
      }
    }
  ]
}